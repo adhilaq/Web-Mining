{
 "cells": [
  {
   "cell_type": "code",
   "execution_count": 2,
   "metadata": {},
   "outputs": [],
   "source": [
    "list1=[]\n",
    "with open(\"doc1.txt\",encoding=\"utf-8\") as f:\n",
    "    for line in f:\n",
    "        inner_list1=[line.strip() for line in line.split(\" \")]\n",
    "        list1.append(inner_list1)"
   ]
  },
  {
   "cell_type": "code",
   "execution_count": 3,
   "metadata": {},
   "outputs": [],
   "source": [
    "list2=[]\n",
    "with open(\"doc2.txt\",encoding=\"utf-8\") as f:\n",
    "    for line in f:\n",
    "        inner_list2=[line.strip() for line in line.split(\" \")]\n",
    "        list2.append(inner_list2)"
   ]
  },
  {
   "cell_type": "code",
   "execution_count": 4,
   "metadata": {},
   "outputs": [],
   "source": [
    "list3=[]\n",
    "with open(\"doc3.txt\",encoding=\"utf-8\") as f:\n",
    "    for line in f:\n",
    "        inner_list3=[line.strip() for line in line.split(\" \")]\n",
    "        list3.append(inner_list3)"
   ]
  },
  {
   "cell_type": "code",
   "execution_count": 5,
   "metadata": {},
   "outputs": [],
   "source": [
    "from nltk.corpus import stopwords\n",
    "from nltk.tokenize import word_tokenize\n",
    "stop_words = set(stopwords.words('english'))"
   ]
  },
  {
   "cell_type": "code",
   "execution_count": 6,
   "metadata": {},
   "outputs": [],
   "source": [
    "filtered_sentence1=[]\n",
    "for v in list1:\n",
    "    for w in v:\n",
    "        if w not in stop_words:\n",
    "            filtered_sentence1.append(w)\n",
    "from collections import Counter\n",
    "ctr1 = Counter(filtered_sentence1)"
   ]
  },
  {
   "cell_type": "code",
   "execution_count": 7,
   "metadata": {},
   "outputs": [],
   "source": [
    "filtered_sentence2=[]\n",
    "for v in list2:\n",
    "    for w in v:\n",
    "        if w not in stop_words:\n",
    "            filtered_sentence2.append(w)\n",
    "from collections import Counter\n",
    "ctr2 = Counter(filtered_sentence2)"
   ]
  },
  {
   "cell_type": "code",
   "execution_count": 8,
   "metadata": {},
   "outputs": [],
   "source": [
    "filtered_sentence3=[]\n",
    "for v in list3:\n",
    "    for w in v:\n",
    "        if w not in stop_words:\n",
    "            filtered_sentence3.append(w)\n",
    "from collections import Counter\n",
    "ctr3 = Counter(filtered_sentence3)"
   ]
  },
  {
   "cell_type": "code",
   "execution_count": 9,
   "metadata": {},
   "outputs": [
    {
     "data": {
      "text/html": [
       "<div>\n",
       "<style scoped>\n",
       "    .dataframe tbody tr th:only-of-type {\n",
       "        vertical-align: middle;\n",
       "    }\n",
       "\n",
       "    .dataframe tbody tr th {\n",
       "        vertical-align: top;\n",
       "    }\n",
       "\n",
       "    .dataframe thead th {\n",
       "        text-align: right;\n",
       "    }\n",
       "</style>\n",
       "<table border=\"1\" class=\"dataframe\">\n",
       "  <thead>\n",
       "    <tr style=\"text-align: right;\">\n",
       "      <th></th>\n",
       "      <th>Recognized</th>\n",
       "      <th>Institution</th>\n",
       "      <th>Eminence</th>\n",
       "      <th>Govt.</th>\n",
       "      <th>India.</th>\n",
       "      <th>No.</th>\n",
       "      <th>1</th>\n",
       "      <th>Private</th>\n",
       "      <th>University</th>\n",
       "      <th>Innovation</th>\n",
       "      <th>...</th>\n",
       "      <th>partner</th>\n",
       "      <th>university.</th>\n",
       "      <th>One</th>\n",
       "      <th>may</th>\n",
       "      <th>also</th>\n",
       "      <th>semester</th>\n",
       "      <th>abroad</th>\n",
       "      <th>engage</th>\n",
       "      <th>research</th>\n",
       "      <th>collaboration.</th>\n",
       "    </tr>\n",
       "  </thead>\n",
       "  <tbody>\n",
       "    <tr>\n",
       "      <td>0</td>\n",
       "      <td>1.0</td>\n",
       "      <td>1.0</td>\n",
       "      <td>1.0</td>\n",
       "      <td>2.0</td>\n",
       "      <td>2.0</td>\n",
       "      <td>1.0</td>\n",
       "      <td>1.0</td>\n",
       "      <td>1.0</td>\n",
       "      <td>1.0</td>\n",
       "      <td>1.0</td>\n",
       "      <td>...</td>\n",
       "      <td>NaN</td>\n",
       "      <td>NaN</td>\n",
       "      <td>NaN</td>\n",
       "      <td>NaN</td>\n",
       "      <td>NaN</td>\n",
       "      <td>NaN</td>\n",
       "      <td>NaN</td>\n",
       "      <td>NaN</td>\n",
       "      <td>NaN</td>\n",
       "      <td>NaN</td>\n",
       "    </tr>\n",
       "    <tr>\n",
       "      <td>1</td>\n",
       "      <td>NaN</td>\n",
       "      <td>NaN</td>\n",
       "      <td>NaN</td>\n",
       "      <td>NaN</td>\n",
       "      <td>NaN</td>\n",
       "      <td>NaN</td>\n",
       "      <td>NaN</td>\n",
       "      <td>NaN</td>\n",
       "      <td>NaN</td>\n",
       "      <td>NaN</td>\n",
       "      <td>...</td>\n",
       "      <td>NaN</td>\n",
       "      <td>NaN</td>\n",
       "      <td>NaN</td>\n",
       "      <td>NaN</td>\n",
       "      <td>NaN</td>\n",
       "      <td>NaN</td>\n",
       "      <td>NaN</td>\n",
       "      <td>NaN</td>\n",
       "      <td>NaN</td>\n",
       "      <td>NaN</td>\n",
       "    </tr>\n",
       "    <tr>\n",
       "      <td>2</td>\n",
       "      <td>NaN</td>\n",
       "      <td>NaN</td>\n",
       "      <td>NaN</td>\n",
       "      <td>NaN</td>\n",
       "      <td>NaN</td>\n",
       "      <td>NaN</td>\n",
       "      <td>NaN</td>\n",
       "      <td>NaN</td>\n",
       "      <td>NaN</td>\n",
       "      <td>NaN</td>\n",
       "      <td>...</td>\n",
       "      <td>1.0</td>\n",
       "      <td>1.0</td>\n",
       "      <td>1.0</td>\n",
       "      <td>1.0</td>\n",
       "      <td>1.0</td>\n",
       "      <td>1.0</td>\n",
       "      <td>1.0</td>\n",
       "      <td>1.0</td>\n",
       "      <td>1.0</td>\n",
       "      <td>1.0</td>\n",
       "    </tr>\n",
       "  </tbody>\n",
       "</table>\n",
       "<p>3 rows × 84 columns</p>\n",
       "</div>"
      ],
      "text/plain": [
       "   Recognized  Institution  Eminence  Govt.  India.  No.    1  Private  \\\n",
       "0         1.0          1.0       1.0    2.0     2.0  1.0  1.0      1.0   \n",
       "1         NaN          NaN       NaN    NaN     NaN  NaN  NaN      NaN   \n",
       "2         NaN          NaN       NaN    NaN     NaN  NaN  NaN      NaN   \n",
       "\n",
       "   University  Innovation  ...  partner  university.  One  may  also  \\\n",
       "0         1.0         1.0  ...      NaN          NaN  NaN  NaN   NaN   \n",
       "1         NaN         NaN  ...      NaN          NaN  NaN  NaN   NaN   \n",
       "2         NaN         NaN  ...      1.0          1.0  1.0  1.0   1.0   \n",
       "\n",
       "   semester  abroad  engage  research  collaboration.  \n",
       "0       NaN     NaN     NaN       NaN             NaN  \n",
       "1       NaN     NaN     NaN       NaN             NaN  \n",
       "2       1.0     1.0     1.0       1.0             1.0  \n",
       "\n",
       "[3 rows x 84 columns]"
      ]
     },
     "execution_count": 9,
     "metadata": {},
     "output_type": "execute_result"
    }
   ],
   "source": [
    "import pandas as pd\n",
    "data_frame=pd.DataFrame([ctr1,ctr2 ,ctr3])\n",
    "data_frame"
   ]
  },
  {
   "cell_type": "code",
   "execution_count": 10,
   "metadata": {},
   "outputs": [],
   "source": [
    "data_frame=data_frame.fillna(0)"
   ]
  },
  {
   "cell_type": "code",
   "execution_count": 11,
   "metadata": {},
   "outputs": [
    {
     "name": "stdout",
     "output_type": "stream",
     "text": [
      "Distances Between Docs: {'Doc1 and Doc2': 9.539392014169456, 'Doc2 and Doc3': 8.660254037844387, 'Doc1 and Doc3': 9.797958971132712}\n",
      "Sorted List: [8.660254037844387, 9.539392014169456, 9.797958971132712]\n"
     ]
    }
   ],
   "source": [
    "import math\n",
    "dist=[]\n",
    "sum12=sum23=sum13=0\n",
    "l1=data_frame.iloc[0].values\n",
    "l2=data_frame.iloc[1].values\n",
    "l3=data_frame.iloc[2].values\n",
    "for i in range(len(l1)):\n",
    "    sum12+=(l1[i]-l2[i])**2\n",
    "    sum13+=(l1[i]-l3[i])**2\n",
    "    sum23+=(l2[i]-l3[i])**2 \n",
    "sum12=math.sqrt(sum12)\n",
    "sum23=math.sqrt(sum23)\n",
    "sum13=math.sqrt(sum13)\n",
    "\n",
    "dict1={'Doc1 and Doc2':sum12,'Doc2 and Doc3':sum23,'Doc1 and Doc3':sum13}\n",
    "print(\"Distances Between Docs:\",dict1)\n",
    "dist=[sum12,sum23,sum13]\n",
    "dist=sorted(dist)\n",
    "print(\"Sorted List:\",dist)"
   ]
  },
  {
   "cell_type": "code",
   "execution_count": 29,
   "metadata": {},
   "outputs": [
    {
     "name": "stdout",
     "output_type": "stream",
     "text": [
      "documents which are similar are  Doc2 and Doc3\n"
     ]
    }
   ],
   "source": [
    "for key, value in dict1.items():\n",
    "    if dist[0] == value:\n",
    "        print('documents which are similar are ',key)"
   ]
  },
  {
   "cell_type": "code",
   "execution_count": null,
   "metadata": {},
   "outputs": [],
   "source": []
  }
 ],
 "metadata": {
  "kernelspec": {
   "display_name": "Python 3",
   "language": "python",
   "name": "python3"
  },
  "language_info": {
   "codemirror_mode": {
    "name": "ipython",
    "version": 3
   },
   "file_extension": ".py",
   "mimetype": "text/x-python",
   "name": "python",
   "nbconvert_exporter": "python",
   "pygments_lexer": "ipython3",
   "version": "3.7.4"
  }
 },
 "nbformat": 4,
 "nbformat_minor": 2
}
