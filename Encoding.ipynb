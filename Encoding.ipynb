{
 "cells": [
  {
   "cell_type": "code",
   "execution_count": 1,
   "metadata": {},
   "outputs": [
    {
     "name": "stdout",
     "output_type": "stream",
     "text": [
      "Elias Gamma Code: 0001110\n",
      "Elias Gamma Decoded: [11, 11]\n"
     ]
    }
   ],
   "source": [
    "def gamma_encoding(x):\n",
    "    binary=bin(x)\n",
    "    binary=binary[2:]\n",
    "    zeroes=len(binary)-1\n",
    "    gamma_code=zeroes*'0' + binary\n",
    "    print(\"Elias Gamma Code:\",gamma_code)\n",
    "\n",
    "def gamma_decoding(x):\n",
    "    ct=0\n",
    "    j=0\n",
    "    ls=[]\n",
    "    while(j<len(x)):\n",
    "        ct=0\n",
    "        for i in range(j,len(x)):\n",
    "            if(x[i]=='0'):\n",
    "                ct+=1;\n",
    "            else:\n",
    "                break;\n",
    "        j=i+ct+1\n",
    "        ls.append(int(x[i:i+ct+1],2))\n",
    "    print(\"Elias Gamma Decoded:\",ls)\n",
    "\n",
    "gamma_encoding(14)\n",
    "gamma_decoding('00010110001011')\n"
   ]
  },
  {
   "cell_type": "code",
   "execution_count": 2,
   "metadata": {},
   "outputs": [
    {
     "name": "stdout",
     "output_type": "stream",
     "text": [
      "Elias Delta Code: 00100110\n",
      "Delta Decoding: [14]\n",
      "Delta Decoding: [14]\n"
     ]
    }
   ],
   "source": [
    "def delta_encoding(x):\n",
    "    binary=bin(x)\n",
    "    binary=binary[2:]\n",
    "    n=len(binary)    \n",
    "    binary1=bin(n)\n",
    "    binary1=binary1[2:]\n",
    "    zeroes=len(binary1)-1\n",
    "    gamma_code=zeroes*'0' + binary1\n",
    "    delta_code=gamma_code+binary[1:]\n",
    "    print(\"Elias Delta Code:\",delta_code)\n",
    "\n",
    "def delta_decoding(x):\n",
    "    n=len(x)\n",
    "    ls=[]\n",
    "    ct=0\n",
    "    for i in x:\n",
    "        if(i=='0'):\n",
    "            ct+=1;\n",
    "        else:\n",
    "            break;\n",
    "    y=x[ct:2*ct+1];\n",
    "    z=x[(2*ct+1):((2*ct+1)+ct+1)];\n",
    "    z='1'+z;\n",
    "    ls.append(int(z,2))\n",
    "    z1=x[(2*ct)+1+ct+1:]\n",
    "    if(((2*ct)+1+ct+1)<(n-1)):\n",
    "        delta_decoding(z1) \n",
    "    print(\"Delta Decoding:\",ls)\n",
    "    \n",
    "delta_encoding(14)\n",
    "delta_decoding('0010011000100110')"
   ]
  },
  {
   "cell_type": "code",
   "execution_count": 3,
   "metadata": {},
   "outputs": [
    {
     "name": "stdout",
     "output_type": "stream",
     "text": [
      "Golomb Code: 001100\n",
      "Golomb Decoding: 9\n"
     ]
    }
   ],
   "source": [
    "import math\n",
    "def golomb_encoding(x,b):\n",
    "    q=int(x/b)\n",
    "    r=x%b\n",
    "    i=math.floor(math.log(b,2))\n",
    "    d=2**(i+1)-b\n",
    "    golomb_code=q*'0'+'1'\n",
    "    if(r>=d):\n",
    "        a=r+d\n",
    "        a=bin(a)\n",
    "        a=a[2:]\n",
    "        golomb_code=golomb_code+a\n",
    "    else:\n",
    "        a=bin(r)\n",
    "        a=a[2:]\n",
    "        a=(i-1)*'0'+a\n",
    "        golomb_code=golomb_code+a\n",
    "    print(\"Golomb Code:\",golomb_code)\n",
    "\n",
    "def golomb_decoding(x,b):\n",
    "    ct=0\n",
    "    ls=[]\n",
    "    j=math.floor(math.log(b,2))\n",
    "    d=2**(j+1)-b\n",
    "    for i in x:\n",
    "        if(i=='0'):\n",
    "            ct+=1\n",
    "        else:\n",
    "            break\n",
    "    q=ct\n",
    "    r=x[ct+1:]\n",
    "    for i in range(b):\n",
    "        if(i>=d):\n",
    "            a=i+d\n",
    "            z=bin(a)\n",
    "            z=z[2:]\n",
    "            ls.append(z)\n",
    "        else:\n",
    "            y=bin(i)\n",
    "            y=y[2:]\n",
    "            y=(j-1)*'0'+y\n",
    "            ls.append(y)\n",
    "    for i in range(len(ls)):\n",
    "        if(r==ls[i]):\n",
    "            print(\"Golomb Decoding:\",q*b+i)\n",
    "\n",
    "golomb_encoding(14,6)\n",
    "golomb_decoding('01111',5)"
   ]
  },
  {
   "cell_type": "code",
   "execution_count": 4,
   "metadata": {},
   "outputs": [
    {
     "name": "stdout",
     "output_type": "stream",
     "text": [
      "Unary Code: 0000001\n",
      "Unary Decoding: [3, 4]\n"
     ]
    }
   ],
   "source": [
    "def unary_encoding(x):\n",
    "    print('Unary Code:',(x-1)*'0'+'1')\n",
    "\n",
    "def unary_decoding(x):\n",
    "    ls=[]\n",
    "    ct=0\n",
    "    j=0\n",
    "    while(j<len(x)):\n",
    "        ct=0\n",
    "        for i in range(j,len(x)):\n",
    "            if(x[i]=='0'):\n",
    "                ct+=1\n",
    "            else:\n",
    "                break\n",
    "        ls.append(ct+1)\n",
    "        j=i+ct-1\n",
    "    print('Unary Decoding:',ls)\n",
    "\n",
    "unary_encoding(7)\n",
    "unary_decoding('0010001')"
   ]
  },
  {
   "cell_type": "code",
   "execution_count": null,
   "metadata": {},
   "outputs": [],
   "source": []
  }
 ],
 "metadata": {
  "kernelspec": {
   "display_name": "Python 3",
   "language": "python",
   "name": "python3"
  },
  "language_info": {
   "codemirror_mode": {
    "name": "ipython",
    "version": 3
   },
   "file_extension": ".py",
   "mimetype": "text/x-python",
   "name": "python",
   "nbconvert_exporter": "python",
   "pygments_lexer": "ipython3",
   "version": "3.7.4"
  }
 },
 "nbformat": 4,
 "nbformat_minor": 2
}
