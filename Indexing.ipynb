{
 "cells": [
  {
   "cell_type": "code",
   "execution_count": 1,
   "metadata": {},
   "outputs": [],
   "source": [
    "list1=[]\n",
    "with open(\"doc1.txt\",encoding=\"utf-8\") as f:\n",
    "    for line in f:\n",
    "        inner_list=[line.strip() for line in line.split(\" \")]\n",
    "        list1.append(inner_list)\n",
    "list2=[]\n",
    "with open(\"doc2.txt\",encoding=\"utf-8\") as f:\n",
    "    for line in f:\n",
    "        inner_list=[line.strip() for line in line.split(\" \")]\n",
    "        list2.append(inner_list)\n",
    "list3=[]\n",
    "with open(\"doc3.txt\",encoding=\"utf-8\") as f:\n",
    "    for line in f:\n",
    "        inner_list=[line.strip() for line in line.split(\" \")]\n",
    "        list3.append(inner_list)\n",
    "list4=[]\n",
    "with open(\"doc4.txt\",encoding=\"utf-8\") as f:\n",
    "    for line in f:\n",
    "        inner_list=[line.strip() for line in line.split(\" \")]\n",
    "        list4.append(inner_list)\n",
    "list5=[]\n",
    "with open(\"doc5.txt\",encoding=\"utf-8\") as f:\n",
    "    for line in f:\n",
    "        inner_list=[line.strip() for line in line.split(\" \")]\n",
    "        list5.append(inner_list)"
   ]
  },
  {
   "cell_type": "code",
   "execution_count": 2,
   "metadata": {},
   "outputs": [],
   "source": [
    "from nltk.corpus import stopwords\n",
    "from nltk.tokenize import word_tokenize\n",
    "stop_words = set(stopwords.words('english'))"
   ]
  },
  {
   "cell_type": "code",
   "execution_count": 3,
   "metadata": {},
   "outputs": [],
   "source": [
    "filtered_sentence1=[]\n",
    "for v in list1:\n",
    "    for w in v:\n",
    "        if w not in stop_words:\n",
    "            filtered_sentence1.append(w)\n",
    "\n",
    "filtered_sentence2=[]\n",
    "for v in list2:\n",
    "    for w in v:\n",
    "        if w not in stop_words:\n",
    "            filtered_sentence2.append(w)\n",
    "\n",
    "filtered_sentence3=[]\n",
    "for v in list3:\n",
    "    for w in v:\n",
    "        if w not in stop_words:\n",
    "            filtered_sentence3.append(w)\n",
    "            \n",
    "filtered_sentence4=[]\n",
    "for v in list4:\n",
    "    for w in v:\n",
    "        if w not in stop_words:\n",
    "            filtered_sentence4.append(w)\n",
    "            \n",
    "filtered_sentence5=[]\n",
    "for v in list5:\n",
    "    for w in v:\n",
    "        if w not in stop_words:\n",
    "            filtered_sentence5.append(w)"
   ]
  },
  {
   "cell_type": "code",
   "execution_count": 4,
   "metadata": {},
   "outputs": [],
   "source": [
    "dictionary={}\n",
    "final_set= set(filtered_sentence1).union(set(filtered_sentence2).union(set(filtered_sentence3).union(set(filtered_sentence4))))\n",
    "final_set=final_set.union(set(filtered_sentence5))\n",
    "for i in final_set:\n",
    "    dictionary[i]={'doc1':[],'doc2':[],'doc3':[],'doc4':[],'doc5':[]}"
   ]
  },
  {
   "cell_type": "code",
   "execution_count": 5,
   "metadata": {},
   "outputs": [],
   "source": [
    "list1_final=[]\n",
    "for i in range(len(list1)):\n",
    "    for j in range(len(list1[i])):           \n",
    "        list1_final.append(list1[i][j])\n",
    "        \n",
    "list2_final=[]\n",
    "for i in range(len(list2)):\n",
    "    for j in range(len(list2[i])):           \n",
    "        list2_final.append(list2[i][j])\n",
    "        \n",
    "list3_final=[]\n",
    "for i in range(len(list3)):\n",
    "    for j in range(len(list3[i])):           \n",
    "        list3_final.append(list3[i][j])\n",
    "        \n",
    "list4_final=[]\n",
    "for i in range(len(list4)):\n",
    "    for j in range(len(list4[i])):           \n",
    "        list4_final.append(list4[i][j])\n",
    "        \n",
    "list5_final=[]\n",
    "for i in range(len(list5)):\n",
    "    for j in range(len(list5[i])):           \n",
    "        list5_final.append(list5[i][j])"
   ]
  },
  {
   "cell_type": "code",
   "execution_count": 6,
   "metadata": {},
   "outputs": [],
   "source": [
    "for j in set(filtered_sentence1):\n",
    "    l=[]\n",
    "    for i in range(len(list1_final)):\n",
    "            if list1_final[i]==j:\n",
    "                l.append(i)\n",
    "    dictionary[j]['doc1'].append(l)\n",
    "    dictionary[j]['doc1'].append(len(l))"
   ]
  },
  {
   "cell_type": "code",
   "execution_count": 7,
   "metadata": {},
   "outputs": [],
   "source": [
    "for j in set(filtered_sentence2):\n",
    "    l=[]\n",
    "    for i in range(len(list2_final)):\n",
    "            if list2_final[i]==j:\n",
    "                l.append(i)\n",
    "    dictionary[j]['doc2'].append(l)\n",
    "    dictionary[j]['doc2'].append(len(l))"
   ]
  },
  {
   "cell_type": "code",
   "execution_count": 8,
   "metadata": {},
   "outputs": [],
   "source": [
    "for j in set(filtered_sentence3):\n",
    "    l=[]\n",
    "    for i in range(len(list3_final)):\n",
    "            if list3_final[i]==j:\n",
    "                l.append(i)\n",
    "    dictionary[j]['doc3'].append(l)\n",
    "    dictionary[j]['doc3'].append(len(l))"
   ]
  },
  {
   "cell_type": "code",
   "execution_count": 9,
   "metadata": {},
   "outputs": [],
   "source": [
    "for j in set(filtered_sentence4):\n",
    "    l=[]\n",
    "    for i in range(len(list4_final)):\n",
    "            if list4_final[i]==j:\n",
    "                l.append(i)\n",
    "    dictionary[j]['doc4'].append(l)\n",
    "    dictionary[j]['doc4'].append(len(l))"
   ]
  },
  {
   "cell_type": "code",
   "execution_count": 10,
   "metadata": {},
   "outputs": [],
   "source": [
    "for j in set(filtered_sentence5):\n",
    "    l=[]\n",
    "    for i in range(len(list5_final)):\n",
    "            if list5_final[i]==j:\n",
    "                l.append(i)\n",
    "    dictionary[j]['doc5'].append(l)\n",
    "    dictionary[j]['doc5'].append(len(l))"
   ]
  },
  {
   "cell_type": "code",
   "execution_count": 11,
   "metadata": {},
   "outputs": [],
   "source": [
    "for i in dictionary:\n",
    "    if(len(dictionary[i]['doc1'])==0):\n",
    "        del dictionary[i]['doc1']\n",
    "    if(len(dictionary[i]['doc2'])==0):\n",
    "        del dictionary[i]['doc2']\n",
    "    if(len(dictionary[i]['doc3'])==0):\n",
    "        del dictionary[i]['doc3']\n",
    "    if(len(dictionary[i]['doc4'])==0):\n",
    "        del dictionary[i]['doc4']\n",
    "    if(len(dictionary[i]['doc5'])==0):\n",
    "        del dictionary[i]['doc5']"
   ]
  },
  {
   "cell_type": "code",
   "execution_count": 12,
   "metadata": {},
   "outputs": [
    {
     "data": {
      "text/plain": [
       "[{'doc2': [[0], 1],\n",
       "  'doc3': [[0, 15, 23], 3],\n",
       "  'doc4': [[0, 4], 2],\n",
       "  'doc5': [[0, 15, 23], 3]},\n",
       " {'doc4': [[6], 1]}]"
      ]
     },
     "execution_count": 12,
     "metadata": {},
     "output_type": "execute_result"
    }
   ],
   "source": [
    "query=\"VIT Institute\"\n",
    "l=[]\n",
    "query_list=list(map(str,query.split(' ')))\n",
    "for i in query_list:\n",
    "    l.append(dictionary[i])\n",
    "l"
   ]
  },
  {
   "cell_type": "code",
   "execution_count": 13,
   "metadata": {},
   "outputs": [
    {
     "data": {
      "text/plain": [
       "[[0], 1]"
      ]
     },
     "execution_count": 13,
     "metadata": {},
     "output_type": "execute_result"
    }
   ],
   "source": [
    "filename=['doc1','doc2','doc3','doc4','doc5']\n",
    "for i in range(len(l)):\n",
    "    for j in filename:\n",
    "        for k in range(len(l[i][j][0])):\n",
    "            for           \n",
    "    "
   ]
  },
  {
   "cell_type": "code",
   "execution_count": 22,
   "metadata": {},
   "outputs": [
    {
     "data": {
      "text/plain": [
       "[['doc2'], ['doc3'], ['doc4'], ['doc5'], ['doc4']]"
      ]
     },
     "execution_count": 22,
     "metadata": {},
     "output_type": "execute_result"
    }
   ],
   "source": [
    "i=[]\n",
    "for j in range(len(l)):\n",
    "    for x in l[j]:\n",
    "        i.append([x])\n",
    "i"
   ]
  },
  {
   "cell_type": "code",
   "execution_count": null,
   "metadata": {},
   "outputs": [],
   "source": []
  }
 ],
 "metadata": {
  "kernelspec": {
   "display_name": "Python 3",
   "language": "python",
   "name": "python3"
  },
  "language_info": {
   "codemirror_mode": {
    "name": "ipython",
    "version": 3
   },
   "file_extension": ".py",
   "mimetype": "text/x-python",
   "name": "python",
   "nbconvert_exporter": "python",
   "pygments_lexer": "ipython3",
   "version": "3.7.4"
  }
 },
 "nbformat": 4,
 "nbformat_minor": 2
}
